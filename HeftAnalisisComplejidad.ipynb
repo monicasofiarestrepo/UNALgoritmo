{
 "cells": [
  {
   "cell_type": "code",
   "execution_count": 1,
   "metadata": {},
   "outputs": [],
   "source": [
    "#sumar todos los numeros impares hasta n \n",
    "\n",
    "n=int(input())\n",
    "ans=0\n",
    "for i in range(n):  \n",
    "    if(n+1%2==0):\n",
    "        ans+=i+1\n",
    "print(ans)"
   ]
  },
  {
   "cell_type": "code",
   "execution_count": 1,
   "metadata": {},
   "outputs": [],
   "source": [
    "n=int(input(())) #—> O(1)  #se ejecuta 1 vez\n",
    "\n",
    "for i in range(n): #—> O(n) \n",
    "\n",
    "    print(\"Hola\")\n",
    "\n",
    "for j in range(2*n): #—> O(2*n) = O(n) #el 2 es constante \n",
    "\n",
    "    print(\"Chaito\") \n",
    "\n",
    "#Su notación es O(n) porque es la más grande que se repite por linea \n",
    "\n",
    "#los for generalmente son O(n) \n",
    "\n",
    "#Los ciclos de ciclos son O(n**2)"
   ]
  },
  {
   "attachments": {},
   "cell_type": "markdown",
   "metadata": {},
   "source": [
    "los for generalmente son O(n) \n",
    "\n",
    "Los ciclos dentro de ciclos son O(n**2)"
   ]
  }
 ],
 "metadata": {
  "kernelspec": {
   "display_name": "Python 3",
   "language": "python",
   "name": "python3"
  },
  "language_info": {
   "codemirror_mode": {
    "name": "ipython",
    "version": 3
   },
   "file_extension": ".py",
   "mimetype": "text/x-python",
   "name": "python",
   "nbconvert_exporter": "python",
   "pygments_lexer": "ipython3",
   "version": "3.9.13"
  },
  "orig_nbformat": 4
 },
 "nbformat": 4,
 "nbformat_minor": 2
}
